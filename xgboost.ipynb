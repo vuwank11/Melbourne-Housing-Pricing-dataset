{
 "cells": [
  {
   "cell_type": "markdown",
   "id": "3c3bc10b",
   "metadata": {
    "papermill": {
     "duration": 0.005481,
     "end_time": "2023-07-23T14:01:58.685842",
     "exception": false,
     "start_time": "2023-07-23T14:01:58.680361",
     "status": "completed"
    },
    "tags": []
   },
   "source": [
    "**This notebook is an exercise in the [Intermediate Machine Learning](https://www.kaggle.com/learn/intermediate-machine-learning) course.  You can reference the tutorial at [this link](https://www.kaggle.com/alexisbcook/xgboost).**\n",
    "\n",
    "---\n"
   ]
  },
  {
   "cell_type": "markdown",
   "id": "b5d6af0d",
   "metadata": {
    "papermill": {
     "duration": 0.005105,
     "end_time": "2023-07-23T14:01:58.695986",
     "exception": false,
     "start_time": "2023-07-23T14:01:58.690881",
     "status": "completed"
    },
    "tags": []
   },
   "source": [
    "In this exercise, you will use your new knowledge to train a model with **gradient boosting**.\n",
    "\n",
    "# Setup\n",
    "\n",
    "The questions below will give you feedback on your work. Run the following cell to set up the feedback system."
   ]
  },
  {
   "cell_type": "code",
   "execution_count": 1,
   "id": "1cc4ed6d",
   "metadata": {
    "execution": {
     "iopub.execute_input": "2023-07-23T14:01:58.707912Z",
     "iopub.status.busy": "2023-07-23T14:01:58.707446Z",
     "iopub.status.idle": "2023-07-23T14:02:01.173658Z",
     "shell.execute_reply": "2023-07-23T14:02:01.172815Z"
    },
    "papermill": {
     "duration": 2.474839,
     "end_time": "2023-07-23T14:02:01.175731",
     "exception": false,
     "start_time": "2023-07-23T14:01:58.700892",
     "status": "completed"
    },
    "tags": []
   },
   "outputs": [
    {
     "name": "stderr",
     "output_type": "stream",
     "text": [
      "/opt/conda/lib/python3.10/site-packages/scipy/__init__.py:146: UserWarning: A NumPy version >=1.16.5 and <1.23.0 is required for this version of SciPy (detected version 1.23.5\n",
      "  warnings.warn(f\"A NumPy version >={np_minversion} and <{np_maxversion}\"\n"
     ]
    },
    {
     "name": "stdout",
     "output_type": "stream",
     "text": [
      "Setup Complete\n"
     ]
    }
   ],
   "source": [
    "# Set up code checking\n",
    "import os\n",
    "if not os.path.exists(\"../input/train.csv\"):\n",
    "    os.symlink(\"../input/home-data-for-ml-course/train.csv\", \"../input/train.csv\")  \n",
    "    os.symlink(\"../input/home-data-for-ml-course/test.csv\", \"../input/test.csv\") \n",
    "from learntools.core import binder\n",
    "binder.bind(globals())\n",
    "from learntools.ml_intermediate.ex6 import *\n",
    "print(\"Setup Complete\")"
   ]
  },
  {
   "cell_type": "code",
   "execution_count": null,
   "id": "9aff2871",
   "metadata": {
    "papermill": {
     "duration": 0.004915,
     "end_time": "2023-07-23T14:02:01.185795",
     "exception": false,
     "start_time": "2023-07-23T14:02:01.180880",
     "status": "completed"
    },
    "tags": []
   },
   "outputs": [],
   "source": []
  },
  {
   "cell_type": "markdown",
   "id": "3b30b6eb",
   "metadata": {
    "papermill": {
     "duration": 0.004709,
     "end_time": "2023-07-23T14:02:01.195391",
     "exception": false,
     "start_time": "2023-07-23T14:02:01.190682",
     "status": "completed"
    },
    "tags": []
   },
   "source": [
    "You will work with the [Housing Prices Competition for Kaggle Learn Users](https://www.kaggle.com/c/home-data-for-ml-course) dataset from the previous exercise. \n",
    "\n",
    "![Ames Housing dataset image](https://storage.googleapis.com/kaggle-media/learn/images/lTJVG4e.png)\n",
    "\n",
    "Run the next code cell without changes to load the training and validation sets in `X_train`, `X_valid`, `y_train`, and `y_valid`.  The test set is loaded in `X_test`."
   ]
  },
  {
   "cell_type": "code",
   "execution_count": 2,
   "id": "7ce96bb1",
   "metadata": {
    "execution": {
     "iopub.execute_input": "2023-07-23T14:02:01.208934Z",
     "iopub.status.busy": "2023-07-23T14:02:01.207906Z",
     "iopub.status.idle": "2023-07-23T14:02:01.388242Z",
     "shell.execute_reply": "2023-07-23T14:02:01.387376Z"
    },
    "papermill": {
     "duration": 0.188812,
     "end_time": "2023-07-23T14:02:01.390516",
     "exception": false,
     "start_time": "2023-07-23T14:02:01.201704",
     "status": "completed"
    },
    "tags": []
   },
   "outputs": [],
   "source": [
    "import pandas as pd\n",
    "from sklearn.model_selection import train_test_split\n",
    "\n",
    "# Read the data\n",
    "X = pd.read_csv('../input/train.csv', index_col='Id')\n",
    "X_test_full = pd.read_csv('../input/test.csv', index_col='Id')\n",
    "\n",
    "# Remove rows with missing target, separate target from predictors\n",
    "X.dropna(axis=0, subset=['SalePrice'], inplace=True)\n",
    "y = X.SalePrice              \n",
    "X.drop(['SalePrice'], axis=1, inplace=True)\n",
    "\n",
    "# Break off validation set from training data\n",
    "X_train_full, X_valid_full, y_train, y_valid = train_test_split(X, y, train_size=0.8, test_size=0.2,\n",
    "                                                                random_state=0)\n",
    "\n",
    "# \"Cardinality\" means the number of unique values in a column\n",
    "# Select categorical columns with relatively low cardinality (convenient but arbitrary)\n",
    "low_cardinality_cols = [cname for cname in X_train_full.columns if X_train_full[cname].nunique() < 10 and \n",
    "                        X_train_full[cname].dtype == \"object\"]\n",
    "\n",
    "# Select numeric columns\n",
    "numeric_cols = [cname for cname in X_train_full.columns if X_train_full[cname].dtype in ['int64', 'float64']]\n",
    "\n",
    "# Keep selected columns only\n",
    "my_cols = low_cardinality_cols + numeric_cols\n",
    "X_train = X_train_full[my_cols].copy()\n",
    "X_valid = X_valid_full[my_cols].copy()\n",
    "X_test = X_test_full[my_cols].copy()\n",
    "\n",
    "# One-hot encode the data (to shorten the code, we use pandas)\n",
    "X_train = pd.get_dummies(X_train)\n",
    "X_valid = pd.get_dummies(X_valid)\n",
    "X_test = pd.get_dummies(X_test)\n",
    "X_train, X_valid = X_train.align(X_valid, join='left', axis=1)\n",
    "X_train, X_test = X_train.align(X_test, join='left', axis=1)"
   ]
  },
  {
   "cell_type": "markdown",
   "id": "d339c974",
   "metadata": {
    "papermill": {
     "duration": 0.007155,
     "end_time": "2023-07-23T14:02:01.404582",
     "exception": false,
     "start_time": "2023-07-23T14:02:01.397427",
     "status": "completed"
    },
    "tags": []
   },
   "source": [
    "# Step 1: Build model\n",
    "\n",
    "### Part A\n",
    "\n",
    "In this step, you'll build and train your first model with gradient boosting.\n",
    "\n",
    "- Begin by setting `my_model_1` to an XGBoost model.  Use the [XGBRegressor](https://xgboost.readthedocs.io/en/latest/python/python_api.html#xgboost.XGBRegressor) class, and set the random seed to 0 (`random_state=0`).  **Leave all other parameters as default.**\n",
    "- Then, fit the model to the training data in `X_train` and `y_train`."
   ]
  },
  {
   "cell_type": "code",
   "execution_count": 3,
   "id": "44f76b62",
   "metadata": {
    "execution": {
     "iopub.execute_input": "2023-07-23T14:02:01.420741Z",
     "iopub.status.busy": "2023-07-23T14:02:01.419914Z",
     "iopub.status.idle": "2023-07-23T14:02:02.270807Z",
     "shell.execute_reply": "2023-07-23T14:02:02.270088Z"
    },
    "papermill": {
     "duration": 0.861171,
     "end_time": "2023-07-23T14:02:02.272744",
     "exception": false,
     "start_time": "2023-07-23T14:02:01.411573",
     "status": "completed"
    },
    "tags": []
   },
   "outputs": [
    {
     "data": {
      "application/javascript": [
       "parent.postMessage({\"jupyterEvent\": \"custom.exercise_interaction\", \"data\": {\"outcomeType\": 1, \"valueTowardsCompletion\": 0.5, \"interactionType\": 1, \"questionType\": 2, \"questionId\": \"1.1_Model1A\", \"learnToolsVersion\": \"0.3.4\", \"failureMessage\": \"\", \"exceptionClass\": \"\", \"trace\": \"\"}}, \"*\")"
      ],
      "text/plain": [
       "<IPython.core.display.Javascript object>"
      ]
     },
     "metadata": {},
     "output_type": "display_data"
    },
    {
     "data": {
      "text/markdown": [
       "<span style=\"color:#33cc33\">Correct</span>"
      ],
      "text/plain": [
       "Correct"
      ]
     },
     "metadata": {},
     "output_type": "display_data"
    }
   ],
   "source": [
    "from xgboost import XGBRegressor\n",
    "\n",
    "# Define the model\n",
    "my_model_1 = XGBRegressor(random_state=0) # Your code here\n",
    "\n",
    "# Fit the model\n",
    "my_model_1.fit(X_train,y_train) # Your code here\n",
    "\n",
    "# Check your answer\n",
    "step_1.a.check()"
   ]
  },
  {
   "cell_type": "code",
   "execution_count": 4,
   "id": "85fee92a",
   "metadata": {
    "execution": {
     "iopub.execute_input": "2023-07-23T14:02:02.285711Z",
     "iopub.status.busy": "2023-07-23T14:02:02.284765Z",
     "iopub.status.idle": "2023-07-23T14:02:02.289201Z",
     "shell.execute_reply": "2023-07-23T14:02:02.288233Z"
    },
    "papermill": {
     "duration": 0.0129,
     "end_time": "2023-07-23T14:02:02.291158",
     "exception": false,
     "start_time": "2023-07-23T14:02:02.278258",
     "status": "completed"
    },
    "tags": []
   },
   "outputs": [],
   "source": [
    "# Lines below will give you a hint or solution code\n",
    "#step_1.a.hint()\n",
    "#step_1.a.solution()"
   ]
  },
  {
   "cell_type": "markdown",
   "id": "bfec4f3a",
   "metadata": {
    "papermill": {
     "duration": 0.005085,
     "end_time": "2023-07-23T14:02:02.301617",
     "exception": false,
     "start_time": "2023-07-23T14:02:02.296532",
     "status": "completed"
    },
    "tags": []
   },
   "source": [
    "### Part B\n",
    "\n",
    "Set `predictions_1` to the model's predictions for the validation data.  Recall that the validation features are stored in `X_valid`."
   ]
  },
  {
   "cell_type": "code",
   "execution_count": 5,
   "id": "f1b47b2a",
   "metadata": {
    "execution": {
     "iopub.execute_input": "2023-07-23T14:02:02.314108Z",
     "iopub.status.busy": "2023-07-23T14:02:02.313743Z",
     "iopub.status.idle": "2023-07-23T14:02:02.337831Z",
     "shell.execute_reply": "2023-07-23T14:02:02.336660Z"
    },
    "papermill": {
     "duration": 0.033502,
     "end_time": "2023-07-23T14:02:02.340288",
     "exception": false,
     "start_time": "2023-07-23T14:02:02.306786",
     "status": "completed"
    },
    "tags": []
   },
   "outputs": [
    {
     "data": {
      "application/javascript": [
       "parent.postMessage({\"jupyterEvent\": \"custom.exercise_interaction\", \"data\": {\"outcomeType\": 1, \"valueTowardsCompletion\": 0.5, \"interactionType\": 1, \"questionType\": 2, \"questionId\": \"1.2_Model1B\", \"learnToolsVersion\": \"0.3.4\", \"failureMessage\": \"\", \"exceptionClass\": \"\", \"trace\": \"\"}}, \"*\")"
      ],
      "text/plain": [
       "<IPython.core.display.Javascript object>"
      ]
     },
     "metadata": {},
     "output_type": "display_data"
    },
    {
     "data": {
      "text/markdown": [
       "<span style=\"color:#33cc33\">Correct</span>"
      ],
      "text/plain": [
       "Correct"
      ]
     },
     "metadata": {},
     "output_type": "display_data"
    }
   ],
   "source": [
    "from sklearn.metrics import mean_absolute_error\n",
    "\n",
    "# Get predictions\n",
    "predictions_1 = my_model_1.predict(X_valid) # Your code here\n",
    "\n",
    "# Check your answer\n",
    "step_1.b.check()"
   ]
  },
  {
   "cell_type": "code",
   "execution_count": 6,
   "id": "44c155d1",
   "metadata": {
    "execution": {
     "iopub.execute_input": "2023-07-23T14:02:02.353598Z",
     "iopub.status.busy": "2023-07-23T14:02:02.352871Z",
     "iopub.status.idle": "2023-07-23T14:02:02.357289Z",
     "shell.execute_reply": "2023-07-23T14:02:02.356318Z"
    },
    "papermill": {
     "duration": 0.013361,
     "end_time": "2023-07-23T14:02:02.359446",
     "exception": false,
     "start_time": "2023-07-23T14:02:02.346085",
     "status": "completed"
    },
    "tags": []
   },
   "outputs": [],
   "source": [
    "# Lines below will give you a hint or solution code\n",
    "#step_1.b.hint()\n",
    "#step_1.b.solution()"
   ]
  },
  {
   "cell_type": "markdown",
   "id": "d24dc9e2",
   "metadata": {
    "papermill": {
     "duration": 0.005415,
     "end_time": "2023-07-23T14:02:02.370701",
     "exception": false,
     "start_time": "2023-07-23T14:02:02.365286",
     "status": "completed"
    },
    "tags": []
   },
   "source": [
    "### Part C\n",
    "\n",
    "Finally, use the `mean_absolute_error()` function to calculate the mean absolute error (MAE) corresponding to the predictions for the validation set.  Recall that the labels for the validation data are stored in `y_valid`."
   ]
  },
  {
   "cell_type": "code",
   "execution_count": 7,
   "id": "b166ff39",
   "metadata": {
    "execution": {
     "iopub.execute_input": "2023-07-23T14:02:02.384107Z",
     "iopub.status.busy": "2023-07-23T14:02:02.383259Z",
     "iopub.status.idle": "2023-07-23T14:02:02.394252Z",
     "shell.execute_reply": "2023-07-23T14:02:02.393228Z"
    },
    "papermill": {
     "duration": 0.02032,
     "end_time": "2023-07-23T14:02:02.396645",
     "exception": false,
     "start_time": "2023-07-23T14:02:02.376325",
     "status": "completed"
    },
    "tags": []
   },
   "outputs": [
    {
     "name": "stdout",
     "output_type": "stream",
     "text": [
      "Mean Absolute Error: 17662.736729452055\n"
     ]
    },
    {
     "data": {
      "application/javascript": [
       "parent.postMessage({\"jupyterEvent\": \"custom.exercise_interaction\", \"data\": {\"outcomeType\": 1, \"valueTowardsCompletion\": 0.5, \"interactionType\": 1, \"questionType\": 2, \"questionId\": \"1.3_Model1C\", \"learnToolsVersion\": \"0.3.4\", \"failureMessage\": \"\", \"exceptionClass\": \"\", \"trace\": \"\"}}, \"*\")"
      ],
      "text/plain": [
       "<IPython.core.display.Javascript object>"
      ]
     },
     "metadata": {},
     "output_type": "display_data"
    },
    {
     "data": {
      "text/markdown": [
       "<span style=\"color:#33cc33\">Correct</span>"
      ],
      "text/plain": [
       "Correct"
      ]
     },
     "metadata": {},
     "output_type": "display_data"
    }
   ],
   "source": [
    "# Calculate MAE\n",
    "mae_1 = mean_absolute_error(predictions_1,y_valid) # Your code here\n",
    "\n",
    "# Uncomment to print MAE\n",
    "print(\"Mean Absolute Error:\" , mae_1)\n",
    "\n",
    "# Check your answer\n",
    "step_1.c.check()"
   ]
  },
  {
   "cell_type": "code",
   "execution_count": 8,
   "id": "882476b4",
   "metadata": {
    "execution": {
     "iopub.execute_input": "2023-07-23T14:02:02.410293Z",
     "iopub.status.busy": "2023-07-23T14:02:02.409926Z",
     "iopub.status.idle": "2023-07-23T14:02:02.414329Z",
     "shell.execute_reply": "2023-07-23T14:02:02.413161Z"
    },
    "papermill": {
     "duration": 0.013943,
     "end_time": "2023-07-23T14:02:02.416650",
     "exception": false,
     "start_time": "2023-07-23T14:02:02.402707",
     "status": "completed"
    },
    "tags": []
   },
   "outputs": [],
   "source": [
    "# Lines below will give you a hint or solution code\n",
    "#step_1.c.hint()\n",
    "#step_1.c.solution()"
   ]
  },
  {
   "cell_type": "markdown",
   "id": "2a256c8e",
   "metadata": {
    "papermill": {
     "duration": 0.005775,
     "end_time": "2023-07-23T14:02:02.428608",
     "exception": false,
     "start_time": "2023-07-23T14:02:02.422833",
     "status": "completed"
    },
    "tags": []
   },
   "source": [
    "# Step 2: Improve the model\n",
    "\n",
    "Now that you've trained a default model as baseline, it's time to tinker with the parameters, to see if you can get better performance!\n",
    "- Begin by setting `my_model_2` to an XGBoost model, using the [XGBRegressor](https://xgboost.readthedocs.io/en/latest/python/python_api.html#xgboost.XGBRegressor) class.  Use what you learned in the previous tutorial to figure out how to change the default parameters (like `n_estimators` and `learning_rate`) to get better results.\n",
    "- Then, fit the model to the training data in `X_train` and `y_train`.\n",
    "- Set `predictions_2` to the model's predictions for the validation data.  Recall that the validation features are stored in `X_valid`.\n",
    "- Finally, use the `mean_absolute_error()` function to calculate the mean absolute error (MAE) corresponding to the predictions on the validation set.  Recall that the labels for the validation data are stored in `y_valid`.\n",
    "\n",
    "In order for this step to be marked correct, your model in `my_model_2` must attain lower MAE than the model in `my_model_1`. "
   ]
  },
  {
   "cell_type": "code",
   "execution_count": 9,
   "id": "b191c908",
   "metadata": {
    "execution": {
     "iopub.execute_input": "2023-07-23T14:02:02.442185Z",
     "iopub.status.busy": "2023-07-23T14:02:02.441814Z",
     "iopub.status.idle": "2023-07-23T14:02:03.238182Z",
     "shell.execute_reply": "2023-07-23T14:02:03.237395Z"
    },
    "papermill": {
     "duration": 0.805562,
     "end_time": "2023-07-23T14:02:03.240142",
     "exception": false,
     "start_time": "2023-07-23T14:02:02.434580",
     "status": "completed"
    },
    "tags": []
   },
   "outputs": [
    {
     "name": "stdout",
     "output_type": "stream",
     "text": [
      "Mean Absolute Error: 17213.82253317637\n"
     ]
    },
    {
     "data": {
      "application/javascript": [
       "parent.postMessage({\"jupyterEvent\": \"custom.exercise_interaction\", \"data\": {\"outcomeType\": 1, \"valueTowardsCompletion\": 0.5, \"interactionType\": 1, \"questionType\": 2, \"questionId\": \"2_Model2\", \"learnToolsVersion\": \"0.3.4\", \"failureMessage\": \"\", \"exceptionClass\": \"\", \"trace\": \"\"}}, \"*\")"
      ],
      "text/plain": [
       "<IPython.core.display.Javascript object>"
      ]
     },
     "metadata": {},
     "output_type": "display_data"
    },
    {
     "data": {
      "text/markdown": [
       "<span style=\"color:#33cc33\">Correct</span>"
      ],
      "text/plain": [
       "Correct"
      ]
     },
     "metadata": {},
     "output_type": "display_data"
    }
   ],
   "source": [
    "# Define the model\n",
    "my_model_2 = XGBRegressor(n_estimators=100, learning_rate=0.05) # Your code here\n",
    "\n",
    "# Fit the model\n",
    "my_model_2.fit(X_train,y_train) # Your code here\n",
    "\n",
    "# Get predictions\n",
    "predictions_2 =my_model_2.predict(X_valid) # Your code here\n",
    "\n",
    "# Calculate MAE\n",
    "mae_2 = mean_absolute_error(predictions_2, y_valid) # Your code here\n",
    "\n",
    "# Uncomment to print MAE\n",
    "print(\"Mean Absolute Error:\" , mae_2)\n",
    "\n",
    "# Check your answer\n",
    "step_2.check()"
   ]
  },
  {
   "cell_type": "code",
   "execution_count": 10,
   "id": "89df5ae0",
   "metadata": {
    "execution": {
     "iopub.execute_input": "2023-07-23T14:02:03.254728Z",
     "iopub.status.busy": "2023-07-23T14:02:03.253683Z",
     "iopub.status.idle": "2023-07-23T14:02:03.258422Z",
     "shell.execute_reply": "2023-07-23T14:02:03.257251Z"
    },
    "papermill": {
     "duration": 0.014507,
     "end_time": "2023-07-23T14:02:03.260846",
     "exception": false,
     "start_time": "2023-07-23T14:02:03.246339",
     "status": "completed"
    },
    "tags": []
   },
   "outputs": [],
   "source": [
    "# Lines below will give you a hint or solution code\n",
    "#step_2.hint()\n",
    "#step_2.solution()"
   ]
  },
  {
   "cell_type": "markdown",
   "id": "777325a6",
   "metadata": {
    "papermill": {
     "duration": 0.005962,
     "end_time": "2023-07-23T14:02:03.273195",
     "exception": false,
     "start_time": "2023-07-23T14:02:03.267233",
     "status": "completed"
    },
    "tags": []
   },
   "source": [
    "# Step 3: Break the model\n",
    "\n",
    "In this step, you will create a model that performs worse than the original model in Step 1.  This will help you to develop your intuition for how to set parameters.  You might even find that you accidentally get better performance, which is ultimately a nice problem to have and a valuable learning experience!\n",
    "- Begin by setting `my_model_3` to an XGBoost model, using the [XGBRegressor](https://xgboost.readthedocs.io/en/latest/python/python_api.html#xgboost.XGBRegressor) class.  Use what you learned in the previous tutorial to figure out how to change the default parameters (like `n_estimators` and `learning_rate`) to design a model to get high MAE.\n",
    "- Then, fit the model to the training data in `X_train` and `y_train`.\n",
    "- Set `predictions_3` to the model's predictions for the validation data.  Recall that the validation features are stored in `X_valid`.\n",
    "- Finally, use the `mean_absolute_error()` function to calculate the mean absolute error (MAE) corresponding to the predictions on the validation set.  Recall that the labels for the validation data are stored in `y_valid`.\n",
    "\n",
    "In order for this step to be marked correct, your model in `my_model_3` must attain higher MAE than the model in `my_model_1`. "
   ]
  },
  {
   "cell_type": "code",
   "execution_count": 11,
   "id": "09cdd31a",
   "metadata": {
    "execution": {
     "iopub.execute_input": "2023-07-23T14:02:03.287129Z",
     "iopub.status.busy": "2023-07-23T14:02:03.286761Z",
     "iopub.status.idle": "2023-07-23T14:02:06.986338Z",
     "shell.execute_reply": "2023-07-23T14:02:06.985570Z"
    },
    "papermill": {
     "duration": 3.708961,
     "end_time": "2023-07-23T14:02:06.988277",
     "exception": false,
     "start_time": "2023-07-23T14:02:03.279316",
     "status": "completed"
    },
    "tags": []
   },
   "outputs": [
    {
     "name": "stdout",
     "output_type": "stream",
     "text": [
      "Mean Absolute Error: 17308.203793878423\n"
     ]
    },
    {
     "data": {
      "application/javascript": [
       "parent.postMessage({\"jupyterEvent\": \"custom.exercise_interaction\", \"data\": {\"outcomeType\": 2, \"failureMessage\": \"You must specify the parameters in `my_model_3` so that it attains higher MAE than the model in `my_model_1`.\", \"interactionType\": 1, \"questionType\": 2, \"questionId\": \"3_Model3\", \"learnToolsVersion\": \"0.3.4\", \"valueTowardsCompletion\": 0.0, \"exceptionClass\": \"\", \"trace\": \"\"}}, \"*\")"
      ],
      "text/plain": [
       "<IPython.core.display.Javascript object>"
      ]
     },
     "metadata": {},
     "output_type": "display_data"
    },
    {
     "data": {
      "text/markdown": [
       "<span style=\"color:#cc3333\">Incorrect:</span> You must specify the parameters in `my_model_3` so that it attains higher MAE than the model in `my_model_1`."
      ],
      "text/plain": [
       "Incorrect: You must specify the parameters in `my_model_3` so that it attains higher MAE than the model in `my_model_1`."
      ]
     },
     "metadata": {},
     "output_type": "display_data"
    }
   ],
   "source": [
    "# Define the model\n",
    "my_model_3 = XGBRegressor(n_estimators=500,learning_rate=0.1)\n",
    "\n",
    "# Fit the model\n",
    "my_model_3.fit(X_train,y_train) # Your code here\n",
    "\n",
    "# Get predictions\n",
    "predictions_3 = my_model_3.predict(X_valid)\n",
    "\n",
    "# Calculate MAE\n",
    "mae_3 = mean_absolute_error(predictions_3,y_valid)\n",
    "\n",
    "# Uncomment to print MAE\n",
    "print(\"Mean Absolute Error:\" , mae_3)\n",
    "\n",
    "# Check your answer\n",
    "step_3.check()"
   ]
  },
  {
   "cell_type": "code",
   "execution_count": 12,
   "id": "0cbeed45",
   "metadata": {
    "execution": {
     "iopub.execute_input": "2023-07-23T14:02:07.003561Z",
     "iopub.status.busy": "2023-07-23T14:02:07.002859Z",
     "iopub.status.idle": "2023-07-23T14:02:07.007468Z",
     "shell.execute_reply": "2023-07-23T14:02:07.006401Z"
    },
    "papermill": {
     "duration": 0.014516,
     "end_time": "2023-07-23T14:02:07.009590",
     "exception": false,
     "start_time": "2023-07-23T14:02:06.995074",
     "status": "completed"
    },
    "tags": []
   },
   "outputs": [],
   "source": [
    "# Lines below will give you a hint or solution code\n",
    "#step_3.hint()\n",
    "#step_3.solution()"
   ]
  },
  {
   "cell_type": "markdown",
   "id": "d0135c79",
   "metadata": {
    "papermill": {
     "duration": 0.006329,
     "end_time": "2023-07-23T14:02:07.022466",
     "exception": false,
     "start_time": "2023-07-23T14:02:07.016137",
     "status": "completed"
    },
    "tags": []
   },
   "source": [
    "# Keep going\n",
    "\n",
    "Continue to learn about **[data leakage](https://www.kaggle.com/alexisbcook/data-leakage)**.  This is an important issue for a data scientist to understand, and it has the potential to ruin your models in subtle and dangerous ways!"
   ]
  },
  {
   "cell_type": "markdown",
   "id": "171f0a6b",
   "metadata": {
    "papermill": {
     "duration": 0.006606,
     "end_time": "2023-07-23T14:02:07.036271",
     "exception": false,
     "start_time": "2023-07-23T14:02:07.029665",
     "status": "completed"
    },
    "tags": []
   },
   "source": [
    "---\n",
    "\n",
    "\n",
    "\n",
    "\n",
    "*Have questions or comments? Visit the [course discussion forum](https://www.kaggle.com/learn/intermediate-machine-learning/discussion) to chat with other learners.*"
   ]
  }
 ],
 "metadata": {
  "kernelspec": {
   "display_name": "Python 3",
   "language": "python",
   "name": "python3"
  },
  "language_info": {
   "codemirror_mode": {
    "name": "ipython",
    "version": 3
   },
   "file_extension": ".py",
   "mimetype": "text/x-python",
   "name": "python",
   "nbconvert_exporter": "python",
   "pygments_lexer": "ipython3",
   "version": "3.10.12"
  },
  "papermill": {
   "default_parameters": {},
   "duration": 18.222516,
   "end_time": "2023-07-23T14:02:07.864631",
   "environment_variables": {},
   "exception": null,
   "input_path": "__notebook__.ipynb",
   "output_path": "__notebook__.ipynb",
   "parameters": {},
   "start_time": "2023-07-23T14:01:49.642115",
   "version": "2.4.0"
  }
 },
 "nbformat": 4,
 "nbformat_minor": 5
}
